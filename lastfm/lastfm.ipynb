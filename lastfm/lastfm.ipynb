{
 "cells": [
  {
   "cell_type": "code",
   "execution_count": 1,
   "metadata": {},
   "outputs": [
    {
     "name": "stdout",
     "output_type": "stream",
     "text": [
      "   userID  artistID  weight\n",
      "0       2        51   13883\n",
      "1       2        52   11690\n",
      "2       2        53   11351\n",
      "3       2        54   10300\n",
      "4       2        55    8983\n"
     ]
    }
   ],
   "source": [
    "\n",
    "import numpy as np\n",
    "import pandas as pd\n",
    "\n",
    "#######################################\n",
    "\n",
    "## Last.fm dataset\n",
    "\n",
    "#######################################\n",
    "\n",
    "data = pd.read_csv('user_artists.csv')\n",
    "\n",
    "users  = data['userID'].unique()\n",
    "artists = data['artistID'].unique()\n",
    "\n",
    "#print('users: ', len(users)  )\n",
    "#print('artists: ', len(artists)  )\n",
    "print(data.head())\n",
    "\n",
    "#######################################\n",
    "\n",
    "data_ratings = pd.read_csv('user_artists.csv')\n",
    "data_artists  = pd.read_csv('artists.csv')\n",
    "\n",
    "#print(data_artists.head())\n",
    "\n",
    "######################################\n",
    "\n",
    "ratings_mat = np.zeros(shape=(17632, 1892), dtype=np.uint8)\n",
    "\n",
    "#print(ratings_mat.shape)\n",
    "\n",
    "#####################################\n",
    "\n"
   ]
  },
  {
   "cell_type": "code",
   "execution_count": 2,
   "metadata": {},
   "outputs": [
    {
     "name": "stdout",
     "output_type": "stream",
     "text": [
      "[[  0   0   0 ...   0   0   0]\n",
      " [  0   0   0 ...   0   0   0]\n",
      " [  0   0   0 ...   0   0 152]\n",
      " ...\n",
      " [  0   0   0 ...   0   0   0]\n",
      " [  0   0   0 ...   0   0   0]\n",
      " [  0   0   0 ...   0   0   0]]\n"
     ]
    }
   ],
   "source": [
    "ratings_array   = data_ratings.weight.values\n",
    "artistIds_array = data_ratings.artistID.values\n",
    "userIds_array   = data_ratings.userID.values\n",
    "\n",
    "################################################\n",
    "# map real values to ref values for artist id and user id\n",
    "\n",
    "artists_uniques_dict_ref_real = {}\n",
    "artists_uniques_dict_real_ref = {}\n",
    "artists_uniques = np.unique(  artistIds_array   )\n",
    "for idx, res in enumerate(artists_uniques):\n",
    "    artists_uniques_dict_ref_real[idx] = res\n",
    "    artists_uniques_dict_real_ref[res] = idx\n",
    "    \n",
    "\n",
    "users_uniques_dict_ref_real = {}\n",
    "users_uniques_dict_real_ref = {}\n",
    "users_uniques = np.unique(  userIds_array   )\n",
    "for idx, res in enumerate(users_uniques):\n",
    "    users_uniques_dict_ref_real[idx] = res\n",
    "    users_uniques_dict_real_ref[res] = idx\n",
    "      \n",
    "\n",
    "#print(  artists_uniques_dict_ref_real  )        \n",
    "\n",
    "################################################\n",
    "\n",
    "for i in range(   len(ratings_array)    ):\n",
    "    u = userIds_array[i]\n",
    "    a = artistIds_array[i]\n",
    "    \n",
    "    ref_u = users_uniques_dict_real_ref[u]\n",
    "    ref_a = artists_uniques_dict_real_ref[a]\n",
    "    \n",
    "    ratings_mat[ref_a, ref_u] = ratings_array[i]\n",
    "\n",
    "################################################\n",
    "\n",
    "\n",
    "print(  ratings_mat  )\n"
   ]
  },
  {
   "cell_type": "code",
   "execution_count": 3,
   "metadata": {},
   "outputs": [
    {
     "name": "stdout",
     "output_type": "stream",
     "text": [
      "(17632, 17632)\n",
      "(1892,)\n",
      "(1892, 1892)\n"
     ]
    }
   ],
   "source": [
    "U, S, V = np.linalg.svd(  ratings_mat  )\n",
    "\n",
    "print(U.shape)\n",
    "print(S.shape)\n",
    "print(V.shape)\n"
   ]
  },
  {
   "cell_type": "code",
   "execution_count": 4,
   "metadata": {},
   "outputs": [],
   "source": [
    "## goal: to recommend similar music artists\n",
    "\n",
    "###################################################\n",
    "\n",
    "## function to calculate the cosine similarity\n",
    "## it sorts by most similar, and returns the top n\n",
    "\n",
    "\n",
    "def top_cosine_similarity(data, artist_id, top_n):\n",
    "    \n",
    "    index = artist_id\n",
    "        \n",
    "    artist_row = data[index, : ]    \n",
    "    \n",
    "    similarity = np.dot(artist_row, data.T)   \n",
    "                     \n",
    "    ## returns indeces sorted from smallest to the biggest\n",
    "    sort_indeces = np.argsort(similarity)\n",
    "                     \n",
    "    return sort_indeces[:top_n]\n",
    "                           \n",
    "\n",
    "###################################################\n",
    "# sample maps -> Kanye West(325), RHCP(214), Queen(950), Rihanna(282), Disturbed(969), Katy Perry(294), Linkin Park(317),\n",
    "#                Boston(2448), Michael Jackson(157), Eminem(469), Paramore(492)\n",
    "\n",
    "\n",
    "def search():\n",
    "   \n",
    "    k = 60   ## principal components   \n",
    "    sliced_matrix = U[:, :k]\n",
    "    \n",
    "    try:\n",
    "        \n",
    "        val = int(input(\"1) Search by ArtistID\\n2) Search by ArtistName\\n\"))\n",
    "\n",
    "        if(val == 1):\n",
    "            artist_id = int(input(\"Enter artistID: \"))\n",
    "        elif(val == 2):\n",
    "            name = str(input(\"Enter Artist Name: \"))\n",
    "            artist_id = int(data_artists[data_artists['name'] == name].index[0])\n",
    "\n",
    "\n",
    "        top_indeces = top_cosine_similarity(sliced_matrix, artist_id, top_n=10)\n",
    "\n",
    "        real_my_id = artists_uniques_dict_ref_real[artist_id]\n",
    "\n",
    "   ##################### Output ###################### \n",
    "    \n",
    "        print(\"You searched for similar artists to \",\n",
    "                '\\033[1m' + data_artists[data_artists.id == real_my_id].name.values[0] + \"\\n\")\n",
    "\n",
    "        print(f\"{'Artist':.<20}{'Real ID':.>5}\" + '\\033[0m')\n",
    "\n",
    "        for ref in top_indeces:\n",
    "            real_artist_id = artists_uniques_dict_ref_real[ref] \n",
    "            print(f\"{data_artists[data_artists.id == real_artist_id].name.values[0]:.<22}{real_artist_id:.>5}\")\n",
    "    except:\n",
    "        print(\"The value you entered is invalid or does not exist.\")\n",
    "        search()\n",
    "        \n",
    "\n",
    "\n"
   ]
  },
  {
   "cell_type": "code",
   "execution_count": 14,
   "metadata": {},
   "outputs": [
    {
     "name": "stdout",
     "output_type": "stream",
     "text": [
      "1) Search by ArtistID\n",
      "2) Search by ArtistName\n",
      "2\n",
      "Enter Artist Name: Led Zepplin\n",
      "The value you entered is invalid or does not exist.\n",
      "1) Search by ArtistID\n",
      "2) Search by ArtistName\n",
      "2\n",
      "Enter Artist Name: Led Zeplin\n",
      "The value you entered is invalid or does not exist.\n",
      "1) Search by ArtistID\n",
      "2) Search by ArtistName\n",
      "2\n",
      "Enter Artist Name: Metallica\n",
      "You searched for similar artists to  \u001b[1mMetallica\n",
      "\n",
      "Artist..............Real ID\u001b[0m\n",
      "Franz Ferdinand........1090\n",
      "Kings of Leon...........228\n",
      "Placebo.................173\n",
      "Blur....................203\n",
      "Ramones................1513\n",
      "Evanescence.............378\n",
      "Linkin Park.............377\n",
      "Michael Jackson.........157\n",
      "Nightwish...............930\n",
      "Within Temptation.......518\n"
     ]
    }
   ],
   "source": [
    "search()"
   ]
  },
  {
   "cell_type": "code",
   "execution_count": null,
   "metadata": {},
   "outputs": [],
   "source": []
  },
  {
   "cell_type": "code",
   "execution_count": null,
   "metadata": {},
   "outputs": [],
   "source": []
  },
  {
   "cell_type": "code",
   "execution_count": 6,
   "metadata": {},
   "outputs": [
    {
     "data": {
      "text/plain": [
       "'\\ndef lookup(): ## I used this lookup function \\n    val = int(input(\"Search by: 1) id 2) name: \"))\\n    if(val == 1):\\n         # get name given id\\n        try:\\n            index = int(input(\"Give me the REF ID, I\\'ll give you the NAME: \"))\\n            print(index, \\'-->\\', data_artists.name[index], \\'\\n\\')\\n        except:\\n            print(\"Oops! Could not find REF ID.\")\\n    elif(val == 2):\\n        # get id given name\\n        try:\\n            \\n            name = str(input(\"Give me the NAME, I\\'ll give you the REF ID: \"))\\n            print(name, \\'-->\\', data_artists[data_artists[\\'name\\'] == name].index[0])\\n        except:\\n            print(\"Oops! Could not find NAME.\")\\n    else:\\n        print(\"Invalid selection\")\\n        lookup()\\n    \\n\\nlookup()\\n'"
      ]
     },
     "execution_count": 6,
     "metadata": {},
     "output_type": "execute_result"
    }
   ],
   "source": [
    "############### testing ######################\n",
    "'''\n",
    "def lookup(): ## I used this lookup function \n",
    "    val = int(input(\"Search by: 1) id 2) name: \"))\n",
    "    if(val == 1):\n",
    "         # get name given id\n",
    "        try:\n",
    "            index = int(input(\"Give me the REF ID, I'll give you the NAME: \"))\n",
    "            print(index, '-->', data_artists.name[index], '\\n')\n",
    "        except:\n",
    "            print(\"Oops! Could not find REF ID.\")\n",
    "    elif(val == 2):\n",
    "        # get id given name\n",
    "        try:\n",
    "            \n",
    "            name = str(input(\"Give me the NAME, I'll give you the REF ID: \"))\n",
    "            print(name, '-->', data_artists[data_artists['name'] == name].index[0])\n",
    "        except:\n",
    "            print(\"Oops! Could not find NAME.\")\n",
    "    else:\n",
    "        print(\"Invalid selection\")\n",
    "        lookup()\n",
    "    \n",
    "\n",
    "lookup()\n",
    "'''"
   ]
  },
  {
   "cell_type": "code",
   "execution_count": 7,
   "metadata": {},
   "outputs": [],
   "source": [
    "\n",
    "################# About the dataset ##################\n",
    "\n",
    "# subset of a 2011 Last.fm dataset\n",
    "\n",
    "# last.fm is a service that can be connected to your music streaming service of choice to track activity\n",
    "\n",
    "# artists.csv (artistID, artistName | 2 x 17000 )\n",
    "# user_artists.csv (userID, artistID, weight | 3 x 93000)\n",
    "# weight is like 'rating', but can be considered the number of times a user listened to that artist\n",
    "\n",
    "# best results were found with 50 - 60 principal components\n",
    "\n",
    "######################################################\n"
   ]
  },
  {
   "cell_type": "code",
   "execution_count": null,
   "metadata": {},
   "outputs": [],
   "source": []
  },
  {
   "cell_type": "code",
   "execution_count": null,
   "metadata": {},
   "outputs": [],
   "source": []
  },
  {
   "cell_type": "code",
   "execution_count": null,
   "metadata": {},
   "outputs": [],
   "source": []
  },
  {
   "cell_type": "code",
   "execution_count": null,
   "metadata": {},
   "outputs": [],
   "source": []
  },
  {
   "cell_type": "code",
   "execution_count": null,
   "metadata": {},
   "outputs": [],
   "source": []
  },
  {
   "cell_type": "code",
   "execution_count": null,
   "metadata": {},
   "outputs": [],
   "source": []
  }
 ],
 "metadata": {
  "kernelspec": {
   "display_name": "Python 3 (ipykernel)",
   "language": "python",
   "name": "python3"
  },
  "language_info": {
   "codemirror_mode": {
    "name": "ipython",
    "version": 3
   },
   "file_extension": ".py",
   "mimetype": "text/x-python",
   "name": "python",
   "nbconvert_exporter": "python",
   "pygments_lexer": "ipython3",
   "version": "3.9.7"
  }
 },
 "nbformat": 4,
 "nbformat_minor": 4
}
